{
 "cells": [
  {
   "cell_type": "markdown",
   "metadata": {},
   "source": [
    "links for making music in python: \n",
    "\n",
    "- basically all we need: [video tute](https://www.youtube.com/watch?v=S_f2qV2_U00)\n",
    "- [foxdot](http://foxdot.org/index.php/installation/) -- might be the best but dk (needs supercollider + maybe only 2.7??)\n",
    "- [earsketch](https://earsketch.gatech.edu/landing/#/) -- \"learn to code by making music\"; can only find web gui so far!\n",
    "- [audiolab](https://pypi.python.org/pypi/scikits.audiolab) -- part of scikit proj, nice but need \"CoreAudio\" \n",
    "- [python-midi](https://github.com/vishnubob/python-midi) -- mostly or only midi\n",
    "- [pyknon](http://kroger.github.io/pyknon/) -- designed \"for hackers\" \n",
    "- []()\n",
    "\n",
    "seems like almost all of them require some kind of audio engine...not sure why -- was easy in r!\n"
   ]
  },
  {
   "cell_type": "code",
   "execution_count": 57,
   "metadata": {},
   "outputs": [],
   "source": [
    "import rpy2\n",
    "import jupyter_client\n",
    "from textblob import TextBlob"
   ]
  },
  {
   "cell_type": "code",
   "execution_count": 58,
   "metadata": {},
   "outputs": [
    {
     "name": "stdout",
     "output_type": "stream",
     "text": [
      "the string is:\n",
      "my name is tim, and this is a boring sentence. the goal is to make it easy to tokenize and parse.\n",
      "\n",
      "> here's the tags of the string:\n",
      "[('my', 'PRP$'), ('name', 'NN'), ('is', 'VBZ'), ('tim', 'JJ'), ('and', 'CC'), ('this', 'DT'), ('is', 'VBZ'), ('a', 'DT'), ('boring', 'JJ'), ('sentence', 'NN'), ('the', 'DT'), ('goal', 'NN'), ('is', 'VBZ'), ('to', 'TO'), ('make', 'VB'), ('it', 'PRP'), ('easy', 'JJ'), ('to', 'TO'), ('tokenize', 'VB'), ('and', 'CC'), ('parse', 'VB')]\n",
      "\n",
      "> here's the words and their cats:\n",
      "['my', 'name', 'is', 'tim', 'and', 'this', 'is', 'a', 'boring', 'sentence', 'the', 'goal', 'is', 'to', 'make', 'it', 'easy', 'to', 'tokenize', 'and', 'parse']\n",
      "\n",
      "> here's what happens if we call the .parse method:\n",
      "my/PRP$/B-NP/O name/NN/I-NP/O is/VBZ/B-VP/O tim/NN/B-NP/O ,/,/O/O and/CC/O/O this/DT/O/O is/VBZ/B-VP/O a/DT/B-NP/O boring/JJ/I-NP/O sentence/NN/I-NP/O ././O/O\n",
      "the/DT/B-NP/O goal/NN/I-NP/O is/VBZ/B-VP/O to/TO/B-PP/O make/VB/B-VP/O it/PRP/B-NP/O easy/JJ/B-ADJP/O to/TO/B-PP/O tokenize/VBP/B-VP/O and/CC/O/O parse/NN/B-NP/O ././O/O\n",
      "\n"
     ]
    }
   ],
   "source": [
    "boosh = TextBlob(\"my name is tim, and this is a boring sentence. the goal is to make it easy to tokenize and parse.\")\n",
    "print(\"the string is:\\n{}\\n\".format(boosh))\n",
    "\n",
    "# can call .tags and .words attributes\n",
    "print(\"> here's the tags of the string:\\n{}\\n\".format(boosh.tags)) \n",
    "print(\"> here's the words and their cats:\\n{}\\n\".format(boosh.words))\n",
    "\n",
    "# and can call the .parse() method\n",
    "print(\"> here's what happens if we call the .parse method:\\n{}\\n\".format(boosh.parse()))\n"
   ]
  },
  {
   "cell_type": "code",
   "execution_count": 72,
   "metadata": {},
   "outputs": [
    {
     "name": "stdout",
     "output_type": "stream",
     "text": [
      "\n",
      "> here's the stuff inside boosh:\n",
      "\n",
      "['__add__', '__class__', '__contains__', '__delattr__', '__dict__', '__dir__', '__doc__', '__eq__', '__format__', '__ge__', '__getattribute__', '__getitem__', '__gt__', '__hash__', '__init__', '__iter__', '__le__', '__len__', '__lt__', '__module__', '__ne__', '__new__', '__reduce__', '__reduce_ex__', '__repr__', '__setattr__', '__sizeof__', '__str__', '__subclasshook__', '__weakref__', '_cmpkey', '_compare', '_create_sentence_objects', '_strkey', 'analyzer', 'classifier', 'classify', 'correct', 'detect_language', 'ends_with', 'endswith', 'find', 'format', 'index', 'join', 'json', 'lower', 'ngrams', 'noun_phrases', 'np_counts', 'np_extractor', 'parse', 'parser', 'polarity', 'pos_tagger', 'pos_tags', 'raw', 'raw_sentences', 'replace', 'rfind', 'rindex', 'sentences', 'sentiment', 'serialized', 'split', 'starts_with', 'startswith', 'string', 'strip', 'stripped', 'subjectivity', 'tags', 'title', 'to_json', 'tokenize', 'tokenizer', 'tokens', 'translate', 'translator', 'upper', 'word_counts', 'words']\n",
      "\n",
      "> and the .parse() method's internals:\n",
      "\n",
      "['__add__', '__class__', '__contains__', '__delattr__', '__dict__', '__dir__', '__doc__', '__eq__', '__format__', '__ge__', '__getattribute__', '__getitem__', '__getnewargs__', '__gt__', '__hash__', '__init__', '__iter__', '__le__', '__len__', '__lt__', '__mod__', '__module__', '__mul__', '__ne__', '__new__', '__reduce__', '__reduce_ex__', '__repr__', '__rmod__', '__rmul__', '__setattr__', '__sizeof__', '__str__', '__subclasshook__', '__weakref__', 'capitalize', 'casefold', 'center', 'count', 'encode', 'endswith', 'expandtabs', 'find', 'format', 'format_map', 'index', 'isalnum', 'isalpha', 'isdecimal', 'isdigit', 'isidentifier', 'islower', 'isnumeric', 'isprintable', 'isspace', 'istitle', 'isupper', 'join', 'language', 'ljust', 'lower', 'lstrip', 'maketrans', 'partition', 'replace', 'rfind', 'rindex', 'rjust', 'rpartition', 'rsplit', 'rstrip', 'split', 'splitlines', 'startswith', 'strip', 'swapcase', 'tags', 'title', 'translate', 'upper', 'zfill']\n"
     ]
    }
   ],
   "source": [
    "# see what other attr's + methods there is (also tab-completions available in jupyter)\n",
    "print(\"\\n> here's the stuff inside boosh:\\n\")\n",
    "print(dir(boosh))\n",
    "\n",
    "# add some vertical space\n",
    "print(\"\\n> and the .parse() method's internals:\\n\")\n",
    "\n",
    "# what's the .parse() method like?!\n",
    "print(dir(boosh.parse()))"
   ]
  },
  {
   "cell_type": "code",
   "execution_count": 82,
   "metadata": {},
   "outputs": [
    {
     "name": "stdout",
     "output_type": "stream",
     "text": [
      "the sentiment polarity: -0.2833333333333333\n",
      "the sentiment subjectivity: 0.9166666666666667\n"
     ]
    }
   ],
   "source": [
    "print(\"the sentiment polarity: {}\".format(boosh.sentiment.polarity))\n",
    "print(\"the sentiment subjectivity: {}\".format(boosh.sentiment.subjectivity))\n"
   ]
  },
  {
   "cell_type": "code",
   "execution_count": null,
   "metadata": {
    "collapsed": true
   },
   "outputs": [],
   "source": [
    "# can see the full list 'o modules we gots:\n",
    "# help(\"modules\")"
   ]
  }
 ],
 "metadata": {
  "kernelspec": {
   "display_name": "Python [default]",
   "language": "python",
   "name": "python3"
  },
  "language_info": {
   "codemirror_mode": {
    "name": "ipython",
    "version": 3
   },
   "file_extension": ".py",
   "mimetype": "text/x-python",
   "name": "python",
   "nbconvert_exporter": "python",
   "pygments_lexer": "ipython3",
   "version": "3.5.3"
  }
 },
 "nbformat": 4,
 "nbformat_minor": 2
}
