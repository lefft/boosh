{
 "cells": [
  {
   "cell_type": "markdown",
   "metadata": {},
   "source": [
    "location of sample text file is [here](http://lefft.xyz/stuff/posts/caterplastic/input/unabomber-manifesto.txt)"
   ]
  },
  {
   "cell_type": "code",
   "execution_count": 1,
   "metadata": {
    "collapsed": true
   },
   "outputs": [],
   "source": [
    "import textblob as tb\n",
    "import os\n",
    "import requests"
   ]
  },
  {
   "cell_type": "code",
   "execution_count": 2,
   "metadata": {},
   "outputs": [
    {
     "name": "stdout",
     "output_type": "stream",
     "text": [
      "True\n",
      "['INDUSTRIAL', 'SOCIETY', 'AND', 'ITS', 'FUTURE', 'Introduction', '1.', 'The', 'Industrial', 'Revolution']\n",
      "210609\n"
     ]
    }
   ],
   "source": [
    "file_loc = 'http://lefft.xyz/stuff/posts/caterplastic/input/unabomber-manifesto.txt'\n",
    "\n",
    "txt = requests.get(file_loc).text\n",
    "\n",
    "\n",
    "# whole doc is just a single string\n",
    "print(isinstance(txt, str))\n",
    "\n",
    "# TODO: write this more elegantly\n",
    "txt = txt.replace('\\n', ' ')\n",
    "txt = txt.replace('LQUOTE', '\\'')\n",
    "txt = txt.replace('RQUOTE', '\\'')\n",
    "\n",
    "# first few words\n",
    "print(txt.split(sep=' ')[0:10])\n",
    "\n",
    "# length is measured in characters\n",
    "print(len(txt))"
   ]
  },
  {
   "cell_type": "code",
   "execution_count": 3,
   "metadata": {},
   "outputs": [
    {
     "name": "stdout",
     "output_type": "stream",
     "text": [
      "INDUSTRIAL SOCIETY AND ITS FUTURE Introduction 1. The Industrial Revolution and its consequences have been a disaster for the human race. They have greatly increased the life-expectancy of those of us who live in 'advanced' countries, but they have destabilized society, have made life unfulfilling, have subjected human beings to indignities, have led to widespread psychological suffering (in the Third World to physical suffering as well) and have inflicted severe damage on the natural world. The continued development of technology will worsen the situation. It will certainly subject human beings to greater indignities and inflict greater damage on the natural world, it will probably lead to greater social disruption and psychological suffering, and it may lead to increased physical suffering even in 'advanced' countries. 2. The industrial-technological system may survive or it may break down. If it survives, it MAY eventually achieve a low level of physical and psychological suffering,\n"
     ]
    }
   ],
   "source": [
    "# make a textblob obj of size `init_seg_len` from the text\n",
    "init_seg_len = 1000\n",
    "dat = tb.TextBlob(txt[0:1000])\n",
    "\n",
    "type(dat)\n",
    "print(dat)"
   ]
  },
  {
   "cell_type": "code",
   "execution_count": 4,
   "metadata": {},
   "outputs": [
    {
     "data": {
      "text/plain": [
       "Sentiment(polarity=0.13114478114478115, subjectivity=0.28718584656084656)"
      ]
     },
     "execution_count": 4,
     "metadata": {},
     "output_type": "execute_result"
    }
   ],
   "source": [
    "# get the sentiment of the whole blob\n",
    "dat.sentiment"
   ]
  }
 ],
 "metadata": {
  "kernelspec": {
   "display_name": "Python [conda root]",
   "language": "python",
   "name": "conda-root-py"
  },
  "language_info": {
   "codemirror_mode": {
    "name": "ipython",
    "version": 3
   },
   "file_extension": ".py",
   "mimetype": "text/x-python",
   "name": "python",
   "nbconvert_exporter": "python",
   "pygments_lexer": "ipython3",
   "version": "3.5.4"
  }
 },
 "nbformat": 4,
 "nbformat_minor": 2
}
