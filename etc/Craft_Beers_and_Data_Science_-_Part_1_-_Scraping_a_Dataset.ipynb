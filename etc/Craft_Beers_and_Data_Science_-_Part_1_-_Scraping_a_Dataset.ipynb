{
 "cells": [
  {
   "cell_type": "markdown",
   "metadata": {},
   "source": [
    "[Jean-Nicholas Hould](http://www.jeannicholashould.com/python-web-scraping-tutorial-for-craft-beers.html)"
   ]
  },
  {
   "cell_type": "code",
   "execution_count": 1,
   "metadata": {
    "collapsed": false
   },
   "outputs": [],
   "source": [
    "%load_ext watermark"
   ]
  },
  {
   "cell_type": "code",
   "execution_count": 2,
   "metadata": {
    "collapsed": false
   },
   "outputs": [
    {
     "name": "stdout",
     "output_type": "stream",
     "text": [
      "last updated: 2017-04-22 \n",
      "\n",
      "CPython 3.6.0\n",
      "IPython 5.1.0\n",
      "\n",
      "urllib n\u0007\n",
      "bs4 4.5.3\n",
      "re 2.2.1\n",
      "pandas 0.19.2\n"
     ]
    }
   ],
   "source": [
    "%watermark -u -v -d -p urllib,bs4,re,pandas"
   ]
  },
  {
   "cell_type": "markdown",
   "metadata": {},
   "source": [
    "# Craft Beer & Data Science - Part 1 - Scraping for Craft Beers"
   ]
  },
  {
   "cell_type": "markdown",
   "metadata": {},
   "source": [
    "If you have read some of my posts in the past, you know by now that I enjoy a good craft beer. I decided to mix business with pleasure and write a tutorial about how to scrape a craft beer dataset from a website in Python.\n",
    "\n",
    "This post is separated in two sections: scraping and tidying the data. In the first part, we'll plan and write the code to collect a dataset from a website. In the second part, we'll apply the \"tidy data\" principles to this freshly scraped dataset. At the end of this post, we'll have a clean dataset of craft beers.\n",
    "\n",
    "## Web Scraping\n",
    "A web scraper is a piece of code that will automatically load web pages and pull specific data for you. The web scraper will do a repetitive task that would otherwise be too long for you to manually do. \n",
    "\n",
    "For example, we could code a web scraper that will pull a list of product names and their rating from an e-commerce website and write them in a CSV file.  \n",
    "Scraping a website is a great way to acquire a new dataset that would otherwise be unavailable. \n",
    "\n",
    "### A few rules on scraping\n",
    "As Greg Reda pointed out a few years ago [in his excellent web scraping tutorial](http://www.gregreda.com/2013/03/03/web-scraping-101-with-python/), there are a few rules that you need to know about scraping:\n",
    "\n",
    "1. Respect the website terms & conditions. \n",
    "2. Don't stress the servers. *A scraper can make thousands of web page requests in a second. Make sure you don't put too much pressure on the server.*\n",
    "3. Your scraper code will break.*Web pages change often. Your scraper code will be outdated soon.*\n",
    "\n",
    "### Planning \n",
    "\n",
    "The first step in building a scraper is the planning phase. Obviously, you want to decide what data that you want to pull and from which website. \n",
    "\n",
    "In our case, we want to pull data from a website called [CraftCans](http://craftcans.com/db.php?search=all&sort=beerid&ord=desc&view=text). This website lists 2692 craft canned beers. For this specific dataset, we wouldn't need to build a scraper to pull the data. The way it's laid out, we could easily copy and paste it into an Excel spreadsheet. \n",
    "\n",
    "![CraftCans](../images/CraftCans.png)           \n",
    " \n",
    "For each beer, the website presents some details:\n",
    "\n",
    "- Name\n",
    "- Style\n",
    "- Size\n",
    "- Alcohol by volume (ABV)\n",
    "- IBU's\n",
    "- Brewer name\n",
    "- Brewer location\n",
    "\n",
    "#### Inspect the HTML\n",
    "\n",
    "We'd like our scraper to pull all of this information for us. In order to give our scraper specific instructions, we need to look at the HTML code of CraftCans website. Most modern web browser offer a way to inspect the HTML source code of a web page by right click on the page. \n",
    "\n",
    "On Google Chrome, you can right click on an element in a web page and the click on \"Inspect\" to see the HTML code.\n",
    "\n",
    "\n",
    "![ChromeInspect](../images/ChromeInspect.png)           \n",
    "\n",
    "\n",
    "#### Identify patterns\n",
    "\n",
    "Looking at the HTML code on the main page, you can see that this big list of beer is in fact an HTML table. Each beer represents a row in this table. Generally, a repeating pattern, such as an HTML table, is ideal for web scraping because the logic is straightforward.\n",
    "\n",
    "![CraftCansCode](../images/CraftCansCode.png)           "
   ]
  },
  {
   "cell_type": "markdown",
   "metadata": {},
   "source": [
    "### Libraries used"
   ]
  },
  {
   "cell_type": "markdown",
   "metadata": {},
   "source": [
    "For this project, we'll import four libraries. "
   ]
  },
  {
   "cell_type": "code",
   "execution_count": 3,
   "metadata": {
    "collapsed": false
   },
   "outputs": [],
   "source": [
    "from urllib.request import urlopen\n",
    "from bs4 import BeautifulSoup\n",
    "import re\n",
    "import pandas as pd"
   ]
  },
  {
   "cell_type": "markdown",
   "metadata": {},
   "source": [
    "#### urlopen\n",
    "The first one `urlopen` will be used to request an HTML page on the web and return it's content. That's it. \n",
    "\n",
    "#### BeautifulSoup4\n",
    "The second one, `BeautifulSoup4`, is a library that makes it easy to navigate in an HTML document. For example, with this library you can easily select a table in an HTML document and iterate over its rows.\n",
    "\n",
    "#### pandas\n",
    "The third one is `pandas`. We will not use this library for the scraping part. We will use it for the tidying part. `pandas` is a library designed to facilitate data manipulation and analysis.\n",
    "\n",
    "#### re for regular expressions\n",
    "Finally, we'll be using `re` which is part of the Python Standard Library. This lib provides regular expression matching operations. Regular expressions are ways to manipulate strings. For example, we can use regular expressions to list all of the numbers in a string.\n"
   ]
  },
  {
   "cell_type": "markdown",
   "metadata": {},
   "source": [
    "### Write the code\n",
    "\n",
    "#### Challenges with the HTML\n",
    "After some investigation on CraftCans web page, I realized there is no clean ways to scrape the CraftCans website.\n",
    "\n",
    "The HTML structure of CraftCans is kind of old school. The whole layout of the page is in tables. This was a common practice in the past but now the layout is generally set with some CSS. \n",
    "\n",
    "Furthermore, there are no class or identifiers on the HTML table or rows that contains the beer entries. Pointing the scraper to the specific table that we want is challenging without a clean HTML structure or identifiers.\n",
    "\n",
    "\n",
    "#### Solution: List all table rows\n",
    "\n",
    "The solution I found to scrape the website is most likely not the cleanest but it works. \n",
    "\n",
    "Since there are no identifiers on the table that contains the data, I use `BeautifulSoup4` `findAll` function to load all of the table rows `tr` present in the CraftCans page. This function returns an exhaustive list of table rows, whether or not they are from the table we want to scrape.\n",
    "\n",
    "For each row, I run a test to determine whether or not it's a row containing a beer entry or if it's something else. The heuristic to determine if a row is a beer data entry is straightforward: the row needs to contain eight cells and the first cell must contain a valid numeric id."
   ]
  },
  {
   "cell_type": "code",
   "execution_count": 5,
   "metadata": {
    "collapsed": false
   },
   "outputs": [],
   "source": [
    "def is_beer_entry(table_row):\n",
    "    row_cells = table_row.findAll(\"td\")\n",
    "    beer_id = get_beer_id(row_cells[0].text)\n",
    "    return (len(row_cells) == 8 and beer_id )\n",
    "\n",
    "def get_beer_id(cell_value):\n",
    "    r = re.match(\"^(\\d{1,4})\\.$\", cell_value)\n",
    "    if r and len(r.groups()) == 1:\n",
    "        beer_id = r.group(1)\n",
    "        return int(beer_id)\n",
    "    else:\n",
    "        return None"
   ]
  },
  {
   "cell_type": "markdown",
   "metadata": {},
   "source": [
    "Now that we have the functions to determine if a row is indeed a beer entry, we can now scrape the whole web page. We need to decide in which format we want to store the collected data from the website.  I'd like to have a JSON document like this one for each beer entry in CraftCans.\n",
    "\n",
    "#### Example Beer JSON Entry\n",
    "```json\n",
    "{\n",
    "    \"id\": 2692,\n",
    "    \"name\": \"Get Together\",\n",
    "    \"brewery_name\": \"NorthGate Brewing\",\n",
    "    \"brewery_location\": \"Minneapolis, MN\",\n",
    "    \"style\": \"American IPA\",\n",
    "    \"size\": \"16 oz.\",\n",
    "    \"abv\": \"4.5%\",\n",
    "    \"ibu\": \"50\",\n",
    "}\n",
    "```"
   ]
  },
  {
   "cell_type": "markdown",
   "metadata": {},
   "source": [
    "The reason I like to store the data in JSON document is because I can easily transform them into a pandas `DataFrame`. "
   ]
  },
  {
   "cell_type": "code",
   "execution_count": 6,
   "metadata": {
    "collapsed": true
   },
   "outputs": [],
   "source": [
    "def get_all_beers(html_soup):\n",
    "    beers_list = []\n",
    "    all_rows_in_html_page = html_soup.findAll(\"tr\")\n",
    "    for table_row in all_rows_in_html_page:\n",
    "        if is_beer_entry(table_row):\n",
    "            row_cells = table_row.findAll(\"td\")\n",
    "            beer_entry = {\n",
    "                \"id\": get_beer_id(row_cells[0].text),\n",
    "                \"name\": row_cells[1].text,\n",
    "                \"brewery_name\": row_cells[2].text,\n",
    "                \"brewery_location\": row_cells[3].text,\n",
    "                \"style\": row_cells[4].text,\n",
    "                \"size\": row_cells[5].text,\n",
    "                \"abv\": row_cells[6].text,    \n",
    "                \"ibu\": row_cells[7].text\n",
    "            }\n",
    "            beers_list.append(beer_entry)\n",
    "    return beers_list"
   ]
  },
  {
   "cell_type": "markdown",
   "metadata": {},
   "source": [
    "### Run the Scraper\n",
    "Having our functions written, we can then request the CraftCans web page with `urlopen` and have our code take care of the rest."
   ]
  },
  {
   "cell_type": "code",
   "execution_count": 7,
   "metadata": {
    "collapsed": false
   },
   "outputs": [],
   "source": [
    "html = urlopen(\"http://craftcans.com/db.php?search=all&sort=beerid&ord=desc&view=text\")\n",
    "html_soup = BeautifulSoup(html, 'html.parser')\n",
    "beers_list = get_all_beers(html_soup)"
   ]
  },
  {
   "cell_type": "markdown",
   "metadata": {
    "collapsed": false
   },
   "source": [
    "With the list of beers returned by `get_all_beers`, we can easily create a new `pandas` *DataFrame* to conveniently visualize and manipulate our data."
   ]
  },
  {
   "cell_type": "code",
   "execution_count": 8,
   "metadata": {
    "collapsed": false
   },
   "outputs": [
    {
     "data": {
      "text/html": [
       "<div>\n",
       "<table border=\"1\" class=\"dataframe\">\n",
       "  <thead>\n",
       "    <tr style=\"text-align: right;\">\n",
       "      <th></th>\n",
       "      <th>abv</th>\n",
       "      <th>brewery_location</th>\n",
       "      <th>brewery_name</th>\n",
       "      <th>ibu</th>\n",
       "      <th>id</th>\n",
       "      <th>name</th>\n",
       "      <th>size</th>\n",
       "      <th>style</th>\n",
       "    </tr>\n",
       "  </thead>\n",
       "  <tbody>\n",
       "    <tr>\n",
       "      <th>0</th>\n",
       "      <td>4.5%</td>\n",
       "      <td>Minneapolis, MN</td>\n",
       "      <td>NorthGate Brewing</td>\n",
       "      <td>50</td>\n",
       "      <td>2692</td>\n",
       "      <td>Get Together</td>\n",
       "      <td>16 oz.</td>\n",
       "      <td>American IPA</td>\n",
       "    </tr>\n",
       "    <tr>\n",
       "      <th>1</th>\n",
       "      <td>4.9%</td>\n",
       "      <td>Minneapolis, MN</td>\n",
       "      <td>NorthGate Brewing</td>\n",
       "      <td>26</td>\n",
       "      <td>2691</td>\n",
       "      <td>Maggie's Leap</td>\n",
       "      <td>16 oz.</td>\n",
       "      <td>Milk / Sweet Stout</td>\n",
       "    </tr>\n",
       "    <tr>\n",
       "      <th>2</th>\n",
       "      <td>4.8%</td>\n",
       "      <td>Minneapolis, MN</td>\n",
       "      <td>NorthGate Brewing</td>\n",
       "      <td>19</td>\n",
       "      <td>2690</td>\n",
       "      <td>Wall's End</td>\n",
       "      <td>16 oz.</td>\n",
       "      <td>English Brown Ale</td>\n",
       "    </tr>\n",
       "    <tr>\n",
       "      <th>3</th>\n",
       "      <td>6.0%</td>\n",
       "      <td>Minneapolis, MN</td>\n",
       "      <td>NorthGate Brewing</td>\n",
       "      <td>38</td>\n",
       "      <td>2689</td>\n",
       "      <td>Pumpion</td>\n",
       "      <td>16 oz.</td>\n",
       "      <td>Pumpkin Ale</td>\n",
       "    </tr>\n",
       "    <tr>\n",
       "      <th>4</th>\n",
       "      <td>6.0%</td>\n",
       "      <td>Minneapolis, MN</td>\n",
       "      <td>NorthGate Brewing</td>\n",
       "      <td>25</td>\n",
       "      <td>2688</td>\n",
       "      <td>Stronghold</td>\n",
       "      <td>16 oz.</td>\n",
       "      <td>American Porter</td>\n",
       "    </tr>\n",
       "  </tbody>\n",
       "</table>\n",
       "</div>"
      ],
      "text/plain": [
       "    abv brewery_location        brewery_name ibu    id           name    size  \\\n",
       "0  4.5%  Minneapolis, MN  NorthGate Brewing   50  2692   Get Together  16 oz.   \n",
       "1  4.9%  Minneapolis, MN  NorthGate Brewing   26  2691  Maggie's Leap  16 oz.   \n",
       "2  4.8%  Minneapolis, MN  NorthGate Brewing   19  2690     Wall's End  16 oz.   \n",
       "3  6.0%  Minneapolis, MN  NorthGate Brewing   38  2689        Pumpion  16 oz.   \n",
       "4  6.0%  Minneapolis, MN  NorthGate Brewing   25  2688     Stronghold  16 oz.   \n",
       "\n",
       "                style  \n",
       "0        American IPA  \n",
       "1  Milk / Sweet Stout  \n",
       "2   English Brown Ale  \n",
       "3         Pumpkin Ale  \n",
       "4     American Porter  "
      ]
     },
     "execution_count": 8,
     "metadata": {},
     "output_type": "execute_result"
    }
   ],
   "source": [
    "df = pd.DataFrame(beers_list)\n",
    "df.head(5)"
   ]
  },
  {
   "cell_type": "markdown",
   "metadata": {},
   "source": [
    "# Tidy Up"
   ]
  },
  {
   "cell_type": "markdown",
   "metadata": {},
   "source": [
    "In the scraping part, I didn't bother to clean up the data. There are a few reasons for this. First, `pandas` is my tool of choice to manipulate the data. Secondly, I wanted to separate the concerns: scraping and cleaning.\n",
    "\n",
    "[In a previous post](http://www.jeannicholashould.com/tidy-data-in-python.html), I explained the concept of \"tidy data\". This concept was initially presented by Hadley Wickham who describes a tidy dataset as one having the following attributes:\n",
    "\n",
    "- Each *variable* forms a column and contains *values*\n",
    "- Each *observation* forms a row\n",
    "- Each type of *observational unit* forms a table\n",
    "\n",
    "\n",
    "If you take a moment to look at the dataset we scraped so far, you will notice it's messy. It does not conform to the properties of a \"tidy dataset\". You will notice there are multiple observational units in the same table (beers and breweries), there are multiple variables in a single column (city and state), etc. In this section of the post, we'll clean up the dataset."
   ]
  },
  {
   "cell_type": "code",
   "execution_count": 9,
   "metadata": {
    "collapsed": false
   },
   "outputs": [
    {
     "data": {
      "text/html": [
       "<div>\n",
       "<table border=\"1\" class=\"dataframe\">\n",
       "  <thead>\n",
       "    <tr style=\"text-align: right;\">\n",
       "      <th></th>\n",
       "      <th>abv</th>\n",
       "      <th>brewery_location</th>\n",
       "      <th>brewery_name</th>\n",
       "      <th>ibu</th>\n",
       "      <th>id</th>\n",
       "      <th>name</th>\n",
       "      <th>size</th>\n",
       "      <th>style</th>\n",
       "    </tr>\n",
       "  </thead>\n",
       "  <tbody>\n",
       "    <tr>\n",
       "      <th>0</th>\n",
       "      <td>4.5%</td>\n",
       "      <td>Minneapolis, MN</td>\n",
       "      <td>NorthGate Brewing</td>\n",
       "      <td>50</td>\n",
       "      <td>2692</td>\n",
       "      <td>Get Together</td>\n",
       "      <td>16 oz.</td>\n",
       "      <td>American IPA</td>\n",
       "    </tr>\n",
       "    <tr>\n",
       "      <th>1</th>\n",
       "      <td>4.9%</td>\n",
       "      <td>Minneapolis, MN</td>\n",
       "      <td>NorthGate Brewing</td>\n",
       "      <td>26</td>\n",
       "      <td>2691</td>\n",
       "      <td>Maggie's Leap</td>\n",
       "      <td>16 oz.</td>\n",
       "      <td>Milk / Sweet Stout</td>\n",
       "    </tr>\n",
       "    <tr>\n",
       "      <th>2</th>\n",
       "      <td>4.8%</td>\n",
       "      <td>Minneapolis, MN</td>\n",
       "      <td>NorthGate Brewing</td>\n",
       "      <td>19</td>\n",
       "      <td>2690</td>\n",
       "      <td>Wall's End</td>\n",
       "      <td>16 oz.</td>\n",
       "      <td>English Brown Ale</td>\n",
       "    </tr>\n",
       "    <tr>\n",
       "      <th>3</th>\n",
       "      <td>6.0%</td>\n",
       "      <td>Minneapolis, MN</td>\n",
       "      <td>NorthGate Brewing</td>\n",
       "      <td>38</td>\n",
       "      <td>2689</td>\n",
       "      <td>Pumpion</td>\n",
       "      <td>16 oz.</td>\n",
       "      <td>Pumpkin Ale</td>\n",
       "    </tr>\n",
       "    <tr>\n",
       "      <th>4</th>\n",
       "      <td>6.0%</td>\n",
       "      <td>Minneapolis, MN</td>\n",
       "      <td>NorthGate Brewing</td>\n",
       "      <td>25</td>\n",
       "      <td>2688</td>\n",
       "      <td>Stronghold</td>\n",
       "      <td>16 oz.</td>\n",
       "      <td>American Porter</td>\n",
       "    </tr>\n",
       "  </tbody>\n",
       "</table>\n",
       "</div>"
      ],
      "text/plain": [
       "    abv brewery_location        brewery_name ibu    id           name    size  \\\n",
       "0  4.5%  Minneapolis, MN  NorthGate Brewing   50  2692   Get Together  16 oz.   \n",
       "1  4.9%  Minneapolis, MN  NorthGate Brewing   26  2691  Maggie's Leap  16 oz.   \n",
       "2  4.8%  Minneapolis, MN  NorthGate Brewing   19  2690     Wall's End  16 oz.   \n",
       "3  6.0%  Minneapolis, MN  NorthGate Brewing   38  2689        Pumpion  16 oz.   \n",
       "4  6.0%  Minneapolis, MN  NorthGate Brewing   25  2688     Stronghold  16 oz.   \n",
       "\n",
       "                style  \n",
       "0        American IPA  \n",
       "1  Milk / Sweet Stout  \n",
       "2   English Brown Ale  \n",
       "3         Pumpkin Ale  \n",
       "4     American Porter  "
      ]
     },
     "execution_count": 9,
     "metadata": {},
     "output_type": "execute_result"
    }
   ],
   "source": [
    "df.head(5)"
   ]
  },
  {
   "cell_type": "markdown",
   "metadata": {},
   "source": [
    "### Beers & Breweries: Two Observational Units\n",
    "\n",
    "The most flagrant problem with the scraped dataset is that there are multiple observation units in the table: beers and breweries. The solution for this is to create two separate dataset. \n",
    "\n",
    "#### Breweries\n",
    "\n",
    "The `breweries` dataset is straightforward to create. We simply select the relevant columns in our scraped dataset, remove the duplicates and then reset the index. The reason we reset the index is to assign a unique identifier to each brewery. This will be useful when we'll create the beer dataset because we'll be able to associate each beer with a `brewery_id."
   ]
  },
  {
   "cell_type": "code",
   "execution_count": 10,
   "metadata": {
    "collapsed": false
   },
   "outputs": [
    {
     "data": {
      "text/html": [
       "<div>\n",
       "<table border=\"1\" class=\"dataframe\">\n",
       "  <thead>\n",
       "    <tr style=\"text-align: right;\">\n",
       "      <th></th>\n",
       "      <th>brewery_location</th>\n",
       "      <th>brewery_name</th>\n",
       "      <th>id</th>\n",
       "    </tr>\n",
       "  </thead>\n",
       "  <tbody>\n",
       "    <tr>\n",
       "      <th>0</th>\n",
       "      <td>Minneapolis, MN</td>\n",
       "      <td>NorthGate Brewing</td>\n",
       "      <td>0</td>\n",
       "    </tr>\n",
       "    <tr>\n",
       "      <th>1</th>\n",
       "      <td>Louisville, KY</td>\n",
       "      <td>Against the Grain Brewery</td>\n",
       "      <td>1</td>\n",
       "    </tr>\n",
       "    <tr>\n",
       "      <th>2</th>\n",
       "      <td>Framingham, MA</td>\n",
       "      <td>Jack's Abby Craft Lagers</td>\n",
       "      <td>2</td>\n",
       "    </tr>\n",
       "    <tr>\n",
       "      <th>3</th>\n",
       "      <td>San Diego, CA</td>\n",
       "      <td>Mike Hess Brewing Company</td>\n",
       "      <td>3</td>\n",
       "    </tr>\n",
       "    <tr>\n",
       "      <th>4</th>\n",
       "      <td>San Francisco, CA</td>\n",
       "      <td>Fort Point Beer Company</td>\n",
       "      <td>4</td>\n",
       "    </tr>\n",
       "  </tbody>\n",
       "</table>\n",
       "</div>"
      ],
      "text/plain": [
       "    brewery_location               brewery_name  id\n",
       "0    Minneapolis, MN         NorthGate Brewing    0\n",
       "1     Louisville, KY  Against the Grain Brewery   1\n",
       "2     Framingham, MA   Jack's Abby Craft Lagers   2\n",
       "3      San Diego, CA  Mike Hess Brewing Company   3\n",
       "4  San Francisco, CA    Fort Point Beer Company   4"
      ]
     },
     "execution_count": 10,
     "metadata": {},
     "output_type": "execute_result"
    }
   ],
   "source": [
    "breweries = df[[\"brewery_location\", \"brewery_name\"]]\n",
    "breweries = breweries.drop_duplicates().reset_index(drop=True)\n",
    "breweries[\"id\"] = breweries.index\n",
    "breweries.head(5)"
   ]
  },
  {
   "cell_type": "markdown",
   "metadata": {},
   "source": [
    "#### Beers\n",
    "\n",
    "For the `beers` dataset, we want to replace all of the repetitive brewery information, such as the location and name, with a `brewery_id`. Previously, we created a dataset of `breweries` where each brewery has a unique `id`. It's now time to use this identifier.\n",
    "\n",
    "To match this `brewery_id` with the appropriate beer, we use the `merge` function in `pandas`. This function is similar to a `join` in SQL. In this function, we pass both the scraped dataset and the `breweries` dataset as function parameters. We also specify that we want to join both of these datasets on the `brewery_name` and `brewery_location`. This will result in a new *DataFrame*. "
   ]
  },
  {
   "cell_type": "code",
   "execution_count": 11,
   "metadata": {
    "collapsed": false
   },
   "outputs": [
    {
     "data": {
      "text/html": [
       "<div>\n",
       "<table border=\"1\" class=\"dataframe\">\n",
       "  <thead>\n",
       "    <tr style=\"text-align: right;\">\n",
       "      <th></th>\n",
       "      <th>abv</th>\n",
       "      <th>ibu</th>\n",
       "      <th>id</th>\n",
       "      <th>name</th>\n",
       "      <th>size</th>\n",
       "      <th>style</th>\n",
       "      <th>brewery_id</th>\n",
       "    </tr>\n",
       "  </thead>\n",
       "  <tbody>\n",
       "    <tr>\n",
       "      <th>0</th>\n",
       "      <td>5.0%</td>\n",
       "      <td>N/A</td>\n",
       "      <td>1436</td>\n",
       "      <td>Pub Beer</td>\n",
       "      <td>12 oz.</td>\n",
       "      <td>American Pale Lager</td>\n",
       "      <td>408</td>\n",
       "    </tr>\n",
       "    <tr>\n",
       "      <th>1</th>\n",
       "      <td>6.6%</td>\n",
       "      <td>N/A</td>\n",
       "      <td>2265</td>\n",
       "      <td>Devil's Cup</td>\n",
       "      <td>12 oz.</td>\n",
       "      <td>American Pale Ale (APA)</td>\n",
       "      <td>177</td>\n",
       "    </tr>\n",
       "    <tr>\n",
       "      <th>2</th>\n",
       "      <td>7.1%</td>\n",
       "      <td>N/A</td>\n",
       "      <td>2264</td>\n",
       "      <td>Rise of the Phoenix</td>\n",
       "      <td>12 oz.</td>\n",
       "      <td>American IPA</td>\n",
       "      <td>177</td>\n",
       "    </tr>\n",
       "    <tr>\n",
       "      <th>3</th>\n",
       "      <td>9.0%</td>\n",
       "      <td>N/A</td>\n",
       "      <td>2263</td>\n",
       "      <td>Sinister</td>\n",
       "      <td>12 oz.</td>\n",
       "      <td>American Double / Imperial IPA</td>\n",
       "      <td>177</td>\n",
       "    </tr>\n",
       "    <tr>\n",
       "      <th>4</th>\n",
       "      <td>7.5%</td>\n",
       "      <td>N/A</td>\n",
       "      <td>2262</td>\n",
       "      <td>Sex and Candy</td>\n",
       "      <td>12 oz.</td>\n",
       "      <td>American IPA</td>\n",
       "      <td>177</td>\n",
       "    </tr>\n",
       "  </tbody>\n",
       "</table>\n",
       "</div>"
      ],
      "text/plain": [
       "    abv  ibu    id                 name    size  \\\n",
       "0  5.0%  N/A  1436             Pub Beer  12 oz.   \n",
       "1  6.6%  N/A  2265          Devil's Cup  12 oz.   \n",
       "2  7.1%  N/A  2264  Rise of the Phoenix  12 oz.   \n",
       "3  9.0%  N/A  2263             Sinister  12 oz.   \n",
       "4  7.5%  N/A  2262        Sex and Candy  12 oz.   \n",
       "\n",
       "                            style  brewery_id  \n",
       "0             American Pale Lager         408  \n",
       "1         American Pale Ale (APA)         177  \n",
       "2                    American IPA         177  \n",
       "3  American Double / Imperial IPA         177  \n",
       "4                    American IPA         177  "
      ]
     },
     "execution_count": 11,
     "metadata": {},
     "output_type": "execute_result"
    }
   ],
   "source": [
    "beers = pd.merge(df,\n",
    "                 breweries,\n",
    "                 left_on=[\"brewery_name\", \"brewery_location\"],\n",
    "                 right_on=[\"brewery_name\", \"brewery_location\"],\n",
    "                 sort=True,\n",
    "                 suffixes=('_beer', '_brewery'))\n",
    "beers = beers[[\"abv\", \"ibu\", \"id_beer\",\n",
    "               \"name\", \"size\", \"style\", \"id_brewery\"]]\n",
    "beers_columns_rename = {\n",
    "    \"id_beer\": \"id\",\n",
    "    \"id_brewery\": \"brewery_id\"\n",
    "}\n",
    "beers.rename(inplace=True, columns=beers_columns_rename)\n",
    "beers.head(5)"
   ]
  },
  {
   "cell_type": "markdown",
   "metadata": {},
   "source": [
    "### City and State: Two Variables\n",
    "\n",
    "In the `breweries` dataset, the `brewery_location` column contains two variables: the `city` and the `state` in which the brewery is located in. To respect the tidy principles, we want to isolate each variable in a single column. \n",
    "\n",
    "Technically, separating those two variables can be accomplished using the `split` function. This function will split the string it's called on every time it encounters the delimiter passed as a parameter. In this case, our delimiter is a comma. The function will split the string every time it encounters this comma. The value returned by the function is a *list* of strings.\n",
    "\n",
    "To run the `split` function on each value of the `brewery_location` *Series*, we use the `apply` function. This function will repetitively run code on each value of a *Series*. In this case, the code we run is a [lamba](http://www.secnetix.de/olli/Python/lambda_functions.hawk). This anonymous function splits the `brweery_location` string and returns the appropriate value, the `city` or `state`, in the list of returned strings."
   ]
  },
  {
   "cell_type": "code",
   "execution_count": 12,
   "metadata": {
    "collapsed": false
   },
   "outputs": [
    {
     "data": {
      "text/html": [
       "<div>\n",
       "<table border=\"1\" class=\"dataframe\">\n",
       "  <thead>\n",
       "    <tr style=\"text-align: right;\">\n",
       "      <th></th>\n",
       "      <th>name</th>\n",
       "      <th>city</th>\n",
       "      <th>state</th>\n",
       "      <th>id</th>\n",
       "    </tr>\n",
       "  </thead>\n",
       "  <tbody>\n",
       "    <tr>\n",
       "      <th>0</th>\n",
       "      <td>NorthGate Brewing</td>\n",
       "      <td>Minneapolis</td>\n",
       "      <td>MN</td>\n",
       "      <td>0</td>\n",
       "    </tr>\n",
       "    <tr>\n",
       "      <th>1</th>\n",
       "      <td>Against the Grain Brewery</td>\n",
       "      <td>Louisville</td>\n",
       "      <td>KY</td>\n",
       "      <td>1</td>\n",
       "    </tr>\n",
       "    <tr>\n",
       "      <th>2</th>\n",
       "      <td>Jack's Abby Craft Lagers</td>\n",
       "      <td>Framingham</td>\n",
       "      <td>MA</td>\n",
       "      <td>2</td>\n",
       "    </tr>\n",
       "    <tr>\n",
       "      <th>3</th>\n",
       "      <td>Mike Hess Brewing Company</td>\n",
       "      <td>San Diego</td>\n",
       "      <td>CA</td>\n",
       "      <td>3</td>\n",
       "    </tr>\n",
       "    <tr>\n",
       "      <th>4</th>\n",
       "      <td>Fort Point Beer Company</td>\n",
       "      <td>San Francisco</td>\n",
       "      <td>CA</td>\n",
       "      <td>4</td>\n",
       "    </tr>\n",
       "  </tbody>\n",
       "</table>\n",
       "</div>"
      ],
      "text/plain": [
       "                        name           city state  id\n",
       "0         NorthGate Brewing     Minneapolis    MN   0\n",
       "1  Against the Grain Brewery     Louisville    KY   1\n",
       "2   Jack's Abby Craft Lagers     Framingham    MA   2\n",
       "3  Mike Hess Brewing Company      San Diego    CA   3\n",
       "4    Fort Point Beer Company  San Francisco    CA   4"
      ]
     },
     "execution_count": 12,
     "metadata": {},
     "output_type": "execute_result"
    }
   ],
   "source": [
    "breweries[\"city\"] = breweries[\"brewery_location\"].apply(\n",
    "    lambda location: location.split(\",\")[0])\n",
    "breweries[\"state\"] = breweries[\"brewery_location\"].apply(\n",
    "    lambda location: location.split(\",\")[1])\n",
    "breweries = breweries[[\"brewery_name\", \"city\", \"state\", \"id\"]]\n",
    "breweries.rename(inplace=True, columns={\"brewery_name\": \"name\"})\n",
    "breweries.head(5)"
   ]
  },
  {
   "cell_type": "markdown",
   "metadata": {},
   "source": [
    "### A few examples of strings to numerical values\n",
    "\n",
    "The `abv` and `ibu` should be numerical values but they contain some letters. The `abv` column, which represents the alcohol by volume, is stored as a string with a \"%\" instead of a floating number between 0 and 1. Secondly,  the `ibu` values are stored as strings while it should be integers. Some values are numbers while some others are a string \"N/A\". \n",
    "\n",
    "To fix this, I'll `apply` some custom functions I created to clean up the data. You'll notice that I am using `try` and `except`. The reason I am doing this is that I know my code will fail when it will encounter a string with letters. Therefore, if it fails due to `ValueError`, I return `None`. In the *DataFrame*, `None`  will be transformed to `NaN` which indicates missing data."
   ]
  },
  {
   "cell_type": "code",
   "execution_count": 13,
   "metadata": {
    "collapsed": false
   },
   "outputs": [],
   "source": [
    "def string_pct_to_float(value):\n",
    "    stripped = str(value).strip('%')\n",
    "    try:\n",
    "        return float(stripped)/100\n",
    "    except ValueError:    \n",
    "        return None\n",
    "\n",
    "beers[\"abv\"] = beers[\"abv\"].apply(string_pct_to_float)\n",
    "\n",
    "def string_to_int(value):\n",
    "    try:\n",
    "        return int(value)\n",
    "    except ValueError:  \n",
    "        return None\n",
    "\n",
    "beers[\"ibu\"] = beers[\"ibu\"].apply(string_to_int)"
   ]
  },
  {
   "cell_type": "code",
   "execution_count": 14,
   "metadata": {
    "collapsed": false
   },
   "outputs": [
    {
     "data": {
      "text/html": [
       "<div>\n",
       "<table border=\"1\" class=\"dataframe\">\n",
       "  <thead>\n",
       "    <tr style=\"text-align: right;\">\n",
       "      <th></th>\n",
       "      <th>abv</th>\n",
       "      <th>ibu</th>\n",
       "      <th>id</th>\n",
       "      <th>name</th>\n",
       "      <th>size</th>\n",
       "      <th>style</th>\n",
       "      <th>brewery_id</th>\n",
       "    </tr>\n",
       "  </thead>\n",
       "  <tbody>\n",
       "    <tr>\n",
       "      <th>0</th>\n",
       "      <td>0.050</td>\n",
       "      <td>NaN</td>\n",
       "      <td>1436</td>\n",
       "      <td>Pub Beer</td>\n",
       "      <td>12 oz.</td>\n",
       "      <td>American Pale Lager</td>\n",
       "      <td>408</td>\n",
       "    </tr>\n",
       "    <tr>\n",
       "      <th>1</th>\n",
       "      <td>0.066</td>\n",
       "      <td>NaN</td>\n",
       "      <td>2265</td>\n",
       "      <td>Devil's Cup</td>\n",
       "      <td>12 oz.</td>\n",
       "      <td>American Pale Ale (APA)</td>\n",
       "      <td>177</td>\n",
       "    </tr>\n",
       "    <tr>\n",
       "      <th>2</th>\n",
       "      <td>0.071</td>\n",
       "      <td>NaN</td>\n",
       "      <td>2264</td>\n",
       "      <td>Rise of the Phoenix</td>\n",
       "      <td>12 oz.</td>\n",
       "      <td>American IPA</td>\n",
       "      <td>177</td>\n",
       "    </tr>\n",
       "    <tr>\n",
       "      <th>3</th>\n",
       "      <td>0.090</td>\n",
       "      <td>NaN</td>\n",
       "      <td>2263</td>\n",
       "      <td>Sinister</td>\n",
       "      <td>12 oz.</td>\n",
       "      <td>American Double / Imperial IPA</td>\n",
       "      <td>177</td>\n",
       "    </tr>\n",
       "    <tr>\n",
       "      <th>4</th>\n",
       "      <td>0.075</td>\n",
       "      <td>NaN</td>\n",
       "      <td>2262</td>\n",
       "      <td>Sex and Candy</td>\n",
       "      <td>12 oz.</td>\n",
       "      <td>American IPA</td>\n",
       "      <td>177</td>\n",
       "    </tr>\n",
       "  </tbody>\n",
       "</table>\n",
       "</div>"
      ],
      "text/plain": [
       "     abv  ibu    id                 name    size  \\\n",
       "0  0.050  NaN  1436             Pub Beer  12 oz.   \n",
       "1  0.066  NaN  2265          Devil's Cup  12 oz.   \n",
       "2  0.071  NaN  2264  Rise of the Phoenix  12 oz.   \n",
       "3  0.090  NaN  2263             Sinister  12 oz.   \n",
       "4  0.075  NaN  2262        Sex and Candy  12 oz.   \n",
       "\n",
       "                            style  brewery_id  \n",
       "0             American Pale Lager         408  \n",
       "1         American Pale Ale (APA)         177  \n",
       "2                    American IPA         177  \n",
       "3  American Double / Imperial IPA         177  \n",
       "4                    American IPA         177  "
      ]
     },
     "execution_count": 14,
     "metadata": {},
     "output_type": "execute_result"
    }
   ],
   "source": [
    "beers.head(5)"
   ]
  },
  {
   "cell_type": "markdown",
   "metadata": {
    "collapsed": true
   },
   "source": [
    "### Size to Ounces: Strip out the measurement unit\n",
    "\n",
    "Another problem with our dataset is that the `size` column contains a mix of numerical values and letters. The letters are used to indicate the measurement unit. \n",
    "\n",
    "As I skimmed through the `size` column, I noticed the way the measurement unit was written was not consistent. Sometimes ounce was spelled `oz.`, `ounce`, `OZ.`, etc. In order to list all of the possible values we could be dealing with, I transformed the `size` column into a `set` and printed it. A `set` is a list that contains only unique values."
   ]
  },
  {
   "cell_type": "code",
   "execution_count": 15,
   "metadata": {
    "collapsed": false
   },
   "outputs": [
    {
     "name": "stdout",
     "output_type": "stream",
     "text": [
      "32 oz.\n",
      "8.4 oz.\n",
      "16 oz\n",
      "24 oz.\n",
      "19.2\n",
      "12 oz. Slimline\n",
      "12 oz\n",
      "16 oz. Alumi-Tek®\n",
      "12 oz.\n",
      "12 & 16 oz.\n",
      "12 oz. \n",
      "16 oz.\n",
      "16.9 oz.\n",
      "12 OZ.\n",
      "12 ounce\n",
      "19.2 oz.\n",
      "16 oz. Alumi-Tek®\t\n",
      "24 oz. \"Silo Can\"\n"
     ]
    }
   ],
   "source": [
    "for possible_value in set(beers[\"size\"].tolist()):\n",
    "    print(possible_value)"
   ]
  },
  {
   "cell_type": "markdown",
   "metadata": {},
   "source": [
    "Now that we know the set of possible values we can be dealing with, we can write some code to parse the string and transform it into a numerical value. To do this, I used a regular expression that matches the first number encountered. "
   ]
  },
  {
   "cell_type": "code",
   "execution_count": 16,
   "metadata": {
    "collapsed": false
   },
   "outputs": [
    {
     "data": {
      "text/html": [
       "<div>\n",
       "<table border=\"1\" class=\"dataframe\">\n",
       "  <thead>\n",
       "    <tr style=\"text-align: right;\">\n",
       "      <th></th>\n",
       "      <th>abv</th>\n",
       "      <th>ibu</th>\n",
       "      <th>id</th>\n",
       "      <th>name</th>\n",
       "      <th>style</th>\n",
       "      <th>brewery_id</th>\n",
       "      <th>ounces</th>\n",
       "    </tr>\n",
       "  </thead>\n",
       "  <tbody>\n",
       "    <tr>\n",
       "      <th>0</th>\n",
       "      <td>0.050</td>\n",
       "      <td>NaN</td>\n",
       "      <td>1436</td>\n",
       "      <td>Pub Beer</td>\n",
       "      <td>American Pale Lager</td>\n",
       "      <td>408</td>\n",
       "      <td>12.0</td>\n",
       "    </tr>\n",
       "    <tr>\n",
       "      <th>1</th>\n",
       "      <td>0.066</td>\n",
       "      <td>NaN</td>\n",
       "      <td>2265</td>\n",
       "      <td>Devil's Cup</td>\n",
       "      <td>American Pale Ale (APA)</td>\n",
       "      <td>177</td>\n",
       "      <td>12.0</td>\n",
       "    </tr>\n",
       "    <tr>\n",
       "      <th>2</th>\n",
       "      <td>0.071</td>\n",
       "      <td>NaN</td>\n",
       "      <td>2264</td>\n",
       "      <td>Rise of the Phoenix</td>\n",
       "      <td>American IPA</td>\n",
       "      <td>177</td>\n",
       "      <td>12.0</td>\n",
       "    </tr>\n",
       "    <tr>\n",
       "      <th>3</th>\n",
       "      <td>0.090</td>\n",
       "      <td>NaN</td>\n",
       "      <td>2263</td>\n",
       "      <td>Sinister</td>\n",
       "      <td>American Double / Imperial IPA</td>\n",
       "      <td>177</td>\n",
       "      <td>12.0</td>\n",
       "    </tr>\n",
       "    <tr>\n",
       "      <th>4</th>\n",
       "      <td>0.075</td>\n",
       "      <td>NaN</td>\n",
       "      <td>2262</td>\n",
       "      <td>Sex and Candy</td>\n",
       "      <td>American IPA</td>\n",
       "      <td>177</td>\n",
       "      <td>12.0</td>\n",
       "    </tr>\n",
       "  </tbody>\n",
       "</table>\n",
       "</div>"
      ],
      "text/plain": [
       "     abv  ibu    id                 name                           style  \\\n",
       "0  0.050  NaN  1436             Pub Beer             American Pale Lager   \n",
       "1  0.066  NaN  2265          Devil's Cup         American Pale Ale (APA)   \n",
       "2  0.071  NaN  2264  Rise of the Phoenix                    American IPA   \n",
       "3  0.090  NaN  2263             Sinister  American Double / Imperial IPA   \n",
       "4  0.075  NaN  2262        Sex and Candy                    American IPA   \n",
       "\n",
       "   brewery_id  ounces  \n",
       "0         408    12.0  \n",
       "1         177    12.0  \n",
       "2         177    12.0  \n",
       "3         177    12.0  \n",
       "4         177    12.0  "
      ]
     },
     "execution_count": 16,
     "metadata": {},
     "output_type": "execute_result"
    }
   ],
   "source": [
    "def extract_ounces(value):\n",
    "    stripped = value.strip(\"oz\")\n",
    "    match = re.match(\"(\\d{1,2}\\.*\\d*)\", value)\n",
    "    if match:\n",
    "        return float(match.group(0))\n",
    "    else:\n",
    "        return None\n",
    "\n",
    "beers[\"ounces\"] = beers[\"size\"].apply(extract_ounces)    \n",
    "del beers[\"size\"]\n",
    "beers.head(5)"
   ]
  },
  {
   "cell_type": "markdown",
   "metadata": {},
   "source": [
    "### Save datasets to CSV"
   ]
  },
  {
   "cell_type": "code",
   "execution_count": 17,
   "metadata": {
    "collapsed": false
   },
   "outputs": [],
   "source": [
    "beers.to_csv(\"../data/processed/beers.csv\")\n",
    "breweries.to_csv(\"../data/processed/breweries.csv\")"
   ]
  },
  {
   "cell_type": "markdown",
   "metadata": {
    "collapsed": true
   },
   "source": [
    "## Ready for exploration\n",
    "\n",
    "We now have two clean datasets: `beers` and `breweries`. Each column has been cleaned up to respect the tidy principles. The code and the data for this post is available [here on Github](https://github.com/nickhould/craft-beers-dataset).  We are now ready to start exploring those datasets. "
   ]
  }
 ],
 "metadata": {
  "anaconda-cloud": {},
  "kernelspec": {
   "display_name": "Python 3",
   "language": "python",
   "name": "python3"
  },
  "language_info": {
   "codemirror_mode": {
    "name": "ipython",
    "version": 3
   },
   "file_extension": ".py",
   "mimetype": "text/x-python",
   "name": "python",
   "nbconvert_exporter": "python",
   "pygments_lexer": "ipython3",
   "version": "3.6.0"
  }
 },
 "nbformat": 4,
 "nbformat_minor": 1
}
