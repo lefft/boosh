{
 "cells": [
  {
   "cell_type": "markdown",
   "metadata": {},
   "source": [
    "### 0. hayro <3\n",
    "\n"
   ]
  },
  {
   "cell_type": "code",
   "execution_count": 4,
   "metadata": {
    "collapsed": true
   },
   "outputs": [],
   "source": [
    "import pandas as pd\n",
    "import numpy as np\n",
    "import matplotlib as plt\n",
    "import os\n"
   ]
  },
  {
   "cell_type": "code",
   "execution_count": 6,
   "metadata": {},
   "outputs": [
    {
     "data": {
      "text/plain": [
       "['.DS_Store',\n",
       " '.ipynb_checkpoints',\n",
       " '_beta_dist-density.pdf',\n",
       " '_beta_dist.pdf',\n",
       " '_poisson_dist-density.pdf',\n",
       " '_poisson_dist.pdf',\n",
       " 'blaowwie.csv',\n",
       " 'etc.html',\n",
       " 'etc.r',\n",
       " 'etc2.py',\n",
       " 'etc2.r',\n",
       " 'factchecking',\n",
       " 'fiddle_coq',\n",
       " 'fizzbuzz-run1.html',\n",
       " 'fizzbuzz.html',\n",
       " 'fizzbuzz.r',\n",
       " 'interactions',\n",
       " 'magrittr.json',\n",
       " 'magrittr.png',\n",
       " 'magrittr.svg',\n",
       " 'misc',\n",
       " 'networks',\n",
       " 'poppe.r',\n",
       " 'raudio',\n",
       " 'roulette',\n",
       " 'rsquared-for-glmer',\n",
       " 'twithist.r',\n",
       " 'Untitled.ipynb']"
      ]
     },
     "execution_count": 6,
     "metadata": {},
     "output_type": "execute_result"
    }
   ],
   "source": [
    "os.listdir()"
   ]
  },
  {
   "cell_type": "code",
   "execution_count": null,
   "metadata": {
    "collapsed": true
   },
   "outputs": [],
   "source": []
  },
  {
   "cell_type": "code",
   "execution_count": null,
   "metadata": {
    "collapsed": true
   },
   "outputs": [],
   "source": []
  },
  {
   "cell_type": "code",
   "execution_count": null,
   "metadata": {
    "collapsed": true
   },
   "outputs": [],
   "source": []
  }
 ],
 "metadata": {
  "kernelspec": {
   "display_name": "Python [conda root]",
   "language": "python",
   "name": "conda-root-py"
  },
  "language_info": {
   "codemirror_mode": {
    "name": "ipython",
    "version": 3
   },
   "file_extension": ".py",
   "mimetype": "text/x-python",
   "name": "python",
   "nbconvert_exporter": "python",
   "pygments_lexer": "ipython3",
   "version": "3.5.3"
  }
 },
 "nbformat": 4,
 "nbformat_minor": 2
}
